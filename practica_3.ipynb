{
 "cells": [
  {
   "cell_type": "code",
   "execution_count": 1,
   "id": "89540b01-f486-4374-86f0-6e04772aacea",
   "metadata": {},
   "outputs": [],
   "source": [
    "import pandas as pd\n",
    "import matplotlib.pyplot as plt"
   ]
  },
  {
   "cell_type": "code",
   "execution_count": 3,
   "id": "97a8d2f5-fef7-43e8-a621-a1dbb579c156",
   "metadata": {},
   "outputs": [
    {
     "data": {
      "text/html": [
       "<div>\n",
       "<style scoped>\n",
       "    .dataframe tbody tr th:only-of-type {\n",
       "        vertical-align: middle;\n",
       "    }\n",
       "\n",
       "    .dataframe tbody tr th {\n",
       "        vertical-align: top;\n",
       "    }\n",
       "\n",
       "    .dataframe thead th {\n",
       "        text-align: right;\n",
       "    }\n",
       "</style>\n",
       "<table border=\"1\" class=\"dataframe\">\n",
       "  <thead>\n",
       "    <tr style=\"text-align: right;\">\n",
       "      <th></th>\n",
       "      <th>homename</th>\n",
       "      <th>homecontinent</th>\n",
       "      <th>homecountry</th>\n",
       "      <th>homelat</th>\n",
       "      <th>homelon</th>\n",
       "      <th>travelcontinent</th>\n",
       "      <th>travelcountry</th>\n",
       "      <th>travellat</th>\n",
       "      <th>travellon</th>\n",
       "    </tr>\n",
       "  </thead>\n",
       "  <tbody>\n",
       "    <tr>\n",
       "      <th>0</th>\n",
       "      <td>Canadian in La La Land</td>\n",
       "      <td>North America</td>\n",
       "      <td>United States of America</td>\n",
       "      <td>33.930030</td>\n",
       "      <td>-118.280993</td>\n",
       "      <td>North America</td>\n",
       "      <td>United States of America</td>\n",
       "      <td>33.887255</td>\n",
       "      <td>-118.411912</td>\n",
       "    </tr>\n",
       "    <tr>\n",
       "      <th>1</th>\n",
       "      <td>Canadian in La La Land</td>\n",
       "      <td>North America</td>\n",
       "      <td>United States of America</td>\n",
       "      <td>33.930030</td>\n",
       "      <td>-118.280993</td>\n",
       "      <td>North America</td>\n",
       "      <td>United States of America</td>\n",
       "      <td>34.022100</td>\n",
       "      <td>-118.481000</td>\n",
       "    </tr>\n",
       "    <tr>\n",
       "      <th>2</th>\n",
       "      <td>Canadian in La La Land</td>\n",
       "      <td>North America</td>\n",
       "      <td>United States of America</td>\n",
       "      <td>33.930030</td>\n",
       "      <td>-118.280993</td>\n",
       "      <td>North America</td>\n",
       "      <td>United States of America</td>\n",
       "      <td>34.030400</td>\n",
       "      <td>-118.779000</td>\n",
       "    </tr>\n",
       "    <tr>\n",
       "      <th>3</th>\n",
       "      <td>Canadian in La La Land</td>\n",
       "      <td>North America</td>\n",
       "      <td>United States of America</td>\n",
       "      <td>33.930030</td>\n",
       "      <td>-118.280993</td>\n",
       "      <td>North America</td>\n",
       "      <td>United States of America</td>\n",
       "      <td>33.887255</td>\n",
       "      <td>-118.411912</td>\n",
       "    </tr>\n",
       "    <tr>\n",
       "      <th>4</th>\n",
       "      <td>Canadian in La La Land</td>\n",
       "      <td>North America</td>\n",
       "      <td>United States of America</td>\n",
       "      <td>33.930030</td>\n",
       "      <td>-118.280993</td>\n",
       "      <td>North America</td>\n",
       "      <td>United States of America</td>\n",
       "      <td>33.888889</td>\n",
       "      <td>-118.405278</td>\n",
       "    </tr>\n",
       "    <tr>\n",
       "      <th>...</th>\n",
       "      <td>...</td>\n",
       "      <td>...</td>\n",
       "      <td>...</td>\n",
       "      <td>...</td>\n",
       "      <td>...</td>\n",
       "      <td>...</td>\n",
       "      <td>...</td>\n",
       "      <td>...</td>\n",
       "      <td>...</td>\n",
       "    </tr>\n",
       "    <tr>\n",
       "      <th>9506</th>\n",
       "      <td>Bridgetown, Western Australia</td>\n",
       "      <td>Australia</td>\n",
       "      <td>Australia</td>\n",
       "      <td>-33.954448</td>\n",
       "      <td>116.131214</td>\n",
       "      <td>Australia</td>\n",
       "      <td>Australia</td>\n",
       "      <td>-34.225000</td>\n",
       "      <td>115.017000</td>\n",
       "    </tr>\n",
       "    <tr>\n",
       "      <th>9507</th>\n",
       "      <td>Lille, France</td>\n",
       "      <td>Europe</td>\n",
       "      <td>France</td>\n",
       "      <td>50.629250</td>\n",
       "      <td>3.057256</td>\n",
       "      <td>Europe</td>\n",
       "      <td>France</td>\n",
       "      <td>45.002343</td>\n",
       "      <td>-1.201475</td>\n",
       "    </tr>\n",
       "    <tr>\n",
       "      <th>9508</th>\n",
       "      <td>MX</td>\n",
       "      <td>South America</td>\n",
       "      <td>Mexico</td>\n",
       "      <td>23.634501</td>\n",
       "      <td>-102.552784</td>\n",
       "      <td>South America</td>\n",
       "      <td>Mexico</td>\n",
       "      <td>21.016700</td>\n",
       "      <td>-101.250000</td>\n",
       "    </tr>\n",
       "    <tr>\n",
       "      <th>9509</th>\n",
       "      <td>Kuta - Bali - Indonesia</td>\n",
       "      <td>Asia</td>\n",
       "      <td>Indonesia</td>\n",
       "      <td>-8.739184</td>\n",
       "      <td>115.171130</td>\n",
       "      <td>Asia</td>\n",
       "      <td>Indonesia</td>\n",
       "      <td>-8.710093</td>\n",
       "      <td>115.166845</td>\n",
       "    </tr>\n",
       "    <tr>\n",
       "      <th>9510</th>\n",
       "      <td>Kuta - Bali - Indonesia</td>\n",
       "      <td>Asia</td>\n",
       "      <td>Indonesia</td>\n",
       "      <td>-8.739184</td>\n",
       "      <td>115.171130</td>\n",
       "      <td>Asia</td>\n",
       "      <td>Indonesia</td>\n",
       "      <td>-8.710093</td>\n",
       "      <td>115.166845</td>\n",
       "    </tr>\n",
       "  </tbody>\n",
       "</table>\n",
       "<p>9511 rows × 9 columns</p>\n",
       "</div>"
      ],
      "text/plain": [
       "                           homename  homecontinent               homecountry  \\\n",
       "0            Canadian in La La Land  North America  United States of America   \n",
       "1            Canadian in La La Land  North America  United States of America   \n",
       "2            Canadian in La La Land  North America  United States of America   \n",
       "3            Canadian in La La Land  North America  United States of America   \n",
       "4            Canadian in La La Land  North America  United States of America   \n",
       "...                             ...            ...                       ...   \n",
       "9506  Bridgetown, Western Australia      Australia                 Australia   \n",
       "9507                  Lille, France         Europe                    France   \n",
       "9508                             MX  South America                    Mexico   \n",
       "9509        Kuta - Bali - Indonesia           Asia                 Indonesia   \n",
       "9510        Kuta - Bali - Indonesia           Asia                 Indonesia   \n",
       "\n",
       "        homelat     homelon travelcontinent             travelcountry  \\\n",
       "0     33.930030 -118.280993   North America  United States of America   \n",
       "1     33.930030 -118.280993   North America  United States of America   \n",
       "2     33.930030 -118.280993   North America  United States of America   \n",
       "3     33.930030 -118.280993   North America  United States of America   \n",
       "4     33.930030 -118.280993   North America  United States of America   \n",
       "...         ...         ...             ...                       ...   \n",
       "9506 -33.954448  116.131214       Australia                 Australia   \n",
       "9507  50.629250    3.057256          Europe                    France   \n",
       "9508  23.634501 -102.552784   South America                    Mexico   \n",
       "9509  -8.739184  115.171130            Asia                 Indonesia   \n",
       "9510  -8.739184  115.171130            Asia                 Indonesia   \n",
       "\n",
       "      travellat   travellon  \n",
       "0     33.887255 -118.411912  \n",
       "1     34.022100 -118.481000  \n",
       "2     34.030400 -118.779000  \n",
       "3     33.887255 -118.411912  \n",
       "4     33.888889 -118.405278  \n",
       "...         ...         ...  \n",
       "9506 -34.225000  115.017000  \n",
       "9507  45.002343   -1.201475  \n",
       "9508  21.016700 -101.250000  \n",
       "9509  -8.710093  115.166845  \n",
       "9510  -8.710093  115.166845  \n",
       "\n",
       "[9511 rows x 9 columns]"
      ]
     },
     "execution_count": 3,
     "metadata": {},
     "output_type": "execute_result"
    }
   ],
   "source": [
    "df = pd.read_csv(\"datos/viajes_surfistas.csv\")\n",
    "df"
   ]
  },
  {
   "cell_type": "code",
   "execution_count": 5,
   "id": "d1046811-0029-4716-b0ba-3e51c23750a6",
   "metadata": {},
   "outputs": [
    {
     "name": "stdout",
     "output_type": "stream",
     "text": [
      "101\n"
     ]
    },
    {
     "data": {
      "text/plain": [
       "array(['United States of America', 'France', 'Indonesia', 'Spain',\n",
       "       'United Kingdom', 'Philippines', 'Australia', 'Germany', 'Brazil',\n",
       "       'Ireland', 'Japan', 'Colombia', 'Morocco', 'Chile', 'Kuwait',\n",
       "       'Uruguay', 'Italy', 'South Korea', 'Venezuela', 'India', 'Peru',\n",
       "       'New Zealand', 'Mexico', 'Oman', 'Netherlands', 'Bangladesh',\n",
       "       'Kenya', 'Thailand', 'Switzerland', 'Argentina', 'Lebanon',\n",
       "       'Malaysia', 'Poland', 'Dominican Republic', 'Portugal', 'Jordan',\n",
       "       'Canada', 'Singapore', 'Costa Rica', 'United Arab Emirates',\n",
       "       'Uzbekistan', 'Qatar', 'Panama', 'Saint Barthelemy',\n",
       "       'South Africa', 'Ukraine', 'Greece', 'Norway', 'Turkey',\n",
       "       'French Polynesia', 'Slovenia', 'Guatemala', 'Taiwan', 'Nicaragua',\n",
       "       'Ecuador', 'Hong Kong S.A.R.', 'El Salvador', 'Paraguay', 'Russia',\n",
       "       'Namibia', 'Puerto Rico', 'Belgium', 'Nigeria', 'Jersey', 'Cuba',\n",
       "       'China', 'Uganda', 'Belarus', 'Sri Lanka', 'Romania', 'Slovakia',\n",
       "       'Sweden', 'Luxembourg', 'United States Virgin Islands', 'Fiji',\n",
       "       'Republic of Serbia', 'Barbados', 'Czech Republic', 'Andorra',\n",
       "       'Saudi Arabia', 'Pakistan', 'Finland', 'Croatia', 'Bahrain',\n",
       "       'Trinidad and Tobago', 'Grenada', 'Estonia', 'Lithuania', 'Israel',\n",
       "       'Nepal', 'Austria', 'Senegal', 'Isle of Man', 'Guernsey',\n",
       "       'Denmark', 'Latvia', 'Hungary', 'Seychelles', 'Sint Maarten',\n",
       "       'Egypt', 'Haiti'], dtype=object)"
      ]
     },
     "execution_count": 5,
     "metadata": {},
     "output_type": "execute_result"
    }
   ],
   "source": [
    "print(len(df[\"homecountry\"].unique()))\n",
    "df[\"homecountry\"].unique()"
   ]
  },
  {
   "cell_type": "code",
   "execution_count": 7,
   "id": "f66a4b75-6ce5-4843-8941-7615cd74902c",
   "metadata": {},
   "outputs": [
    {
     "data": {
      "text/html": [
       "<div>\n",
       "<style scoped>\n",
       "    .dataframe tbody tr th:only-of-type {\n",
       "        vertical-align: middle;\n",
       "    }\n",
       "\n",
       "    .dataframe tbody tr th {\n",
       "        vertical-align: top;\n",
       "    }\n",
       "\n",
       "    .dataframe thead th {\n",
       "        text-align: right;\n",
       "    }\n",
       "</style>\n",
       "<table border=\"1\" class=\"dataframe\">\n",
       "  <thead>\n",
       "    <tr style=\"text-align: right;\">\n",
       "      <th></th>\n",
       "      <th>homename</th>\n",
       "    </tr>\n",
       "    <tr>\n",
       "      <th>homecountry</th>\n",
       "      <th></th>\n",
       "    </tr>\n",
       "  </thead>\n",
       "  <tbody>\n",
       "    <tr>\n",
       "      <th>Andorra</th>\n",
       "      <td>1</td>\n",
       "    </tr>\n",
       "    <tr>\n",
       "      <th>Argentina</th>\n",
       "      <td>143</td>\n",
       "    </tr>\n",
       "    <tr>\n",
       "      <th>Australia</th>\n",
       "      <td>809</td>\n",
       "    </tr>\n",
       "    <tr>\n",
       "      <th>Austria</th>\n",
       "      <td>3</td>\n",
       "    </tr>\n",
       "    <tr>\n",
       "      <th>Bahrain</th>\n",
       "      <td>2</td>\n",
       "    </tr>\n",
       "    <tr>\n",
       "      <th>...</th>\n",
       "      <td>...</td>\n",
       "    </tr>\n",
       "    <tr>\n",
       "      <th>United States Virgin Islands</th>\n",
       "      <td>2</td>\n",
       "    </tr>\n",
       "    <tr>\n",
       "      <th>United States of America</th>\n",
       "      <td>2826</td>\n",
       "    </tr>\n",
       "    <tr>\n",
       "      <th>Uruguay</th>\n",
       "      <td>21</td>\n",
       "    </tr>\n",
       "    <tr>\n",
       "      <th>Uzbekistan</th>\n",
       "      <td>1</td>\n",
       "    </tr>\n",
       "    <tr>\n",
       "      <th>Venezuela</th>\n",
       "      <td>34</td>\n",
       "    </tr>\n",
       "  </tbody>\n",
       "</table>\n",
       "<p>101 rows × 1 columns</p>\n",
       "</div>"
      ],
      "text/plain": [
       "                              homename\n",
       "homecountry                           \n",
       "Andorra                              1\n",
       "Argentina                          143\n",
       "Australia                          809\n",
       "Austria                              3\n",
       "Bahrain                              2\n",
       "...                                ...\n",
       "United States Virgin Islands         2\n",
       "United States of America          2826\n",
       "Uruguay                             21\n",
       "Uzbekistan                           1\n",
       "Venezuela                           34\n",
       "\n",
       "[101 rows x 1 columns]"
      ]
     },
     "execution_count": 7,
     "metadata": {},
     "output_type": "execute_result"
    }
   ],
   "source": [
    "agrupado = df.groupby(\"homecountry\").agg({\n",
    "        \"homename\": \"count\"\n",
    "})\n",
    "agrupado"
   ]
  },
  {
   "cell_type": "code",
   "execution_count": 12,
   "id": "0eb5401f-5852-4eba-884c-4412f4eefa48",
   "metadata": {},
   "outputs": [],
   "source": [
    "ordenado = agrupado.sort_values(by=\"homename\", ascending=False)"
   ]
  },
  {
   "cell_type": "code",
   "execution_count": 25,
   "id": "23071aa5-69c3-406b-b782-f1b8c05c6e91",
   "metadata": {},
   "outputs": [],
   "source": [
    "top_4 = ordenado.head(4)"
   ]
  },
  {
   "cell_type": "code",
   "execution_count": 16,
   "id": "d10f5b1a-16ab-47b9-82da-5e6f93f9e905",
   "metadata": {},
   "outputs": [],
   "source": [
    "df_otros = ordenado.drop(index=top_4.index.values)"
   ]
  },
  {
   "cell_type": "code",
   "execution_count": 17,
   "id": "74d14d6e-4096-4aa5-913a-d8d6b8ea0eb2",
   "metadata": {},
   "outputs": [
    {
     "data": {
      "text/html": [
       "<div>\n",
       "<style scoped>\n",
       "    .dataframe tbody tr th:only-of-type {\n",
       "        vertical-align: middle;\n",
       "    }\n",
       "\n",
       "    .dataframe tbody tr th {\n",
       "        vertical-align: top;\n",
       "    }\n",
       "\n",
       "    .dataframe thead th {\n",
       "        text-align: right;\n",
       "    }\n",
       "</style>\n",
       "<table border=\"1\" class=\"dataframe\">\n",
       "  <thead>\n",
       "    <tr style=\"text-align: right;\">\n",
       "      <th></th>\n",
       "      <th>homename</th>\n",
       "      <th>pais</th>\n",
       "    </tr>\n",
       "    <tr>\n",
       "      <th>homecountry</th>\n",
       "      <th></th>\n",
       "      <th></th>\n",
       "    </tr>\n",
       "  </thead>\n",
       "  <tbody>\n",
       "    <tr>\n",
       "      <th>United Kingdom</th>\n",
       "      <td>496</td>\n",
       "      <td>Otros</td>\n",
       "    </tr>\n",
       "    <tr>\n",
       "      <th>France</th>\n",
       "      <td>433</td>\n",
       "      <td>Otros</td>\n",
       "    </tr>\n",
       "    <tr>\n",
       "      <th>Brazil</th>\n",
       "      <td>379</td>\n",
       "      <td>Otros</td>\n",
       "    </tr>\n",
       "    <tr>\n",
       "      <th>Portugal</th>\n",
       "      <td>367</td>\n",
       "      <td>Otros</td>\n",
       "    </tr>\n",
       "    <tr>\n",
       "      <th>Italy</th>\n",
       "      <td>295</td>\n",
       "      <td>Otros</td>\n",
       "    </tr>\n",
       "    <tr>\n",
       "      <th>...</th>\n",
       "      <td>...</td>\n",
       "      <td>...</td>\n",
       "    </tr>\n",
       "    <tr>\n",
       "      <th>Nepal</th>\n",
       "      <td>1</td>\n",
       "      <td>Otros</td>\n",
       "    </tr>\n",
       "    <tr>\n",
       "      <th>Oman</th>\n",
       "      <td>1</td>\n",
       "      <td>Otros</td>\n",
       "    </tr>\n",
       "    <tr>\n",
       "      <th>Pakistan</th>\n",
       "      <td>1</td>\n",
       "      <td>Otros</td>\n",
       "    </tr>\n",
       "    <tr>\n",
       "      <th>Paraguay</th>\n",
       "      <td>1</td>\n",
       "      <td>Otros</td>\n",
       "    </tr>\n",
       "    <tr>\n",
       "      <th>Andorra</th>\n",
       "      <td>1</td>\n",
       "      <td>Otros</td>\n",
       "    </tr>\n",
       "  </tbody>\n",
       "</table>\n",
       "<p>97 rows × 2 columns</p>\n",
       "</div>"
      ],
      "text/plain": [
       "                homename   pais\n",
       "homecountry                    \n",
       "United Kingdom       496  Otros\n",
       "France               433  Otros\n",
       "Brazil               379  Otros\n",
       "Portugal             367  Otros\n",
       "Italy                295  Otros\n",
       "...                  ...    ...\n",
       "Nepal                  1  Otros\n",
       "Oman                   1  Otros\n",
       "Pakistan               1  Otros\n",
       "Paraguay               1  Otros\n",
       "Andorra                1  Otros\n",
       "\n",
       "[97 rows x 2 columns]"
      ]
     },
     "execution_count": 17,
     "metadata": {},
     "output_type": "execute_result"
    }
   ],
   "source": [
    "df_otros[\"pais\"] = \"Otros\"\n",
    "df_otros"
   ]
  },
  {
   "cell_type": "code",
   "execution_count": 27,
   "id": "fd20c998-ef34-4f6b-839f-4b1c62e23c5f",
   "metadata": {},
   "outputs": [],
   "source": [
    "df_otros_agrupado = df_otros.groupby(\"pais\").agg({\n",
    "    \"homename\": \"sum\"\n",
    "})"
   ]
  },
  {
   "cell_type": "code",
   "execution_count": 28,
   "id": "c652f167-8b6f-46af-8f16-7ad7b240c00d",
   "metadata": {},
   "outputs": [
    {
     "data": {
      "text/html": [
       "<div>\n",
       "<style scoped>\n",
       "    .dataframe tbody tr th:only-of-type {\n",
       "        vertical-align: middle;\n",
       "    }\n",
       "\n",
       "    .dataframe tbody tr th {\n",
       "        vertical-align: top;\n",
       "    }\n",
       "\n",
       "    .dataframe thead th {\n",
       "        text-align: right;\n",
       "    }\n",
       "</style>\n",
       "<table border=\"1\" class=\"dataframe\">\n",
       "  <thead>\n",
       "    <tr style=\"text-align: right;\">\n",
       "      <th></th>\n",
       "      <th>pais</th>\n",
       "      <th>homename</th>\n",
       "    </tr>\n",
       "  </thead>\n",
       "  <tbody>\n",
       "    <tr>\n",
       "      <th>0</th>\n",
       "      <td>Otros</td>\n",
       "      <td>4231</td>\n",
       "    </tr>\n",
       "  </tbody>\n",
       "</table>\n",
       "</div>"
      ],
      "text/plain": [
       "    pais  homename\n",
       "0  Otros      4231"
      ]
     },
     "execution_count": 28,
     "metadata": {},
     "output_type": "execute_result"
    }
   ],
   "source": [
    "df_otros_agrupado = df_otros_agrupado.reset_index()\n",
    "df_otros_agrupado "
   ]
  },
  {
   "cell_type": "code",
   "execution_count": 26,
   "id": "8d15e661-2aab-4ede-b7bf-3afd3452505e",
   "metadata": {},
   "outputs": [
    {
     "data": {
      "text/html": [
       "<div>\n",
       "<style scoped>\n",
       "    .dataframe tbody tr th:only-of-type {\n",
       "        vertical-align: middle;\n",
       "    }\n",
       "\n",
       "    .dataframe tbody tr th {\n",
       "        vertical-align: top;\n",
       "    }\n",
       "\n",
       "    .dataframe thead th {\n",
       "        text-align: right;\n",
       "    }\n",
       "</style>\n",
       "<table border=\"1\" class=\"dataframe\">\n",
       "  <thead>\n",
       "    <tr style=\"text-align: right;\">\n",
       "      <th></th>\n",
       "      <th>homecountry</th>\n",
       "      <th>homename</th>\n",
       "    </tr>\n",
       "  </thead>\n",
       "  <tbody>\n",
       "    <tr>\n",
       "      <th>0</th>\n",
       "      <td>United States of America</td>\n",
       "      <td>2826</td>\n",
       "    </tr>\n",
       "    <tr>\n",
       "      <th>1</th>\n",
       "      <td>Japan</td>\n",
       "      <td>893</td>\n",
       "    </tr>\n",
       "    <tr>\n",
       "      <th>2</th>\n",
       "      <td>Australia</td>\n",
       "      <td>809</td>\n",
       "    </tr>\n",
       "    <tr>\n",
       "      <th>3</th>\n",
       "      <td>Spain</td>\n",
       "      <td>752</td>\n",
       "    </tr>\n",
       "  </tbody>\n",
       "</table>\n",
       "</div>"
      ],
      "text/plain": [
       "                homecountry  homename\n",
       "0  United States of America      2826\n",
       "1                     Japan       893\n",
       "2                 Australia       809\n",
       "3                     Spain       752"
      ]
     },
     "execution_count": 26,
     "metadata": {},
     "output_type": "execute_result"
    }
   ],
   "source": [
    "top_4 = top_4.reset_index()\n",
    "top_4"
   ]
  },
  {
   "cell_type": "code",
   "execution_count": 29,
   "id": "7ec1774c-c690-4706-97ca-1b71cb41b339",
   "metadata": {},
   "outputs": [
    {
     "data": {
      "text/html": [
       "<div>\n",
       "<style scoped>\n",
       "    .dataframe tbody tr th:only-of-type {\n",
       "        vertical-align: middle;\n",
       "    }\n",
       "\n",
       "    .dataframe tbody tr th {\n",
       "        vertical-align: top;\n",
       "    }\n",
       "\n",
       "    .dataframe thead th {\n",
       "        text-align: right;\n",
       "    }\n",
       "</style>\n",
       "<table border=\"1\" class=\"dataframe\">\n",
       "  <thead>\n",
       "    <tr style=\"text-align: right;\">\n",
       "      <th></th>\n",
       "      <th>pais</th>\n",
       "      <th>homename</th>\n",
       "    </tr>\n",
       "  </thead>\n",
       "  <tbody>\n",
       "    <tr>\n",
       "      <th>0</th>\n",
       "      <td>United States of America</td>\n",
       "      <td>2826</td>\n",
       "    </tr>\n",
       "    <tr>\n",
       "      <th>1</th>\n",
       "      <td>Japan</td>\n",
       "      <td>893</td>\n",
       "    </tr>\n",
       "    <tr>\n",
       "      <th>2</th>\n",
       "      <td>Australia</td>\n",
       "      <td>809</td>\n",
       "    </tr>\n",
       "    <tr>\n",
       "      <th>3</th>\n",
       "      <td>Spain</td>\n",
       "      <td>752</td>\n",
       "    </tr>\n",
       "  </tbody>\n",
       "</table>\n",
       "</div>"
      ],
      "text/plain": [
       "                       pais  homename\n",
       "0  United States of America      2826\n",
       "1                     Japan       893\n",
       "2                 Australia       809\n",
       "3                     Spain       752"
      ]
     },
     "execution_count": 29,
     "metadata": {},
     "output_type": "execute_result"
    }
   ],
   "source": [
    "top_4.columns = [\"pais\", \"homename\"]\n",
    "top_4"
   ]
  },
  {
   "cell_type": "code",
   "execution_count": 31,
   "id": "951db84f-6a3b-4f3f-9082-f514ea8b6cc9",
   "metadata": {},
   "outputs": [
    {
     "data": {
      "text/html": [
       "<div>\n",
       "<style scoped>\n",
       "    .dataframe tbody tr th:only-of-type {\n",
       "        vertical-align: middle;\n",
       "    }\n",
       "\n",
       "    .dataframe tbody tr th {\n",
       "        vertical-align: top;\n",
       "    }\n",
       "\n",
       "    .dataframe thead th {\n",
       "        text-align: right;\n",
       "    }\n",
       "</style>\n",
       "<table border=\"1\" class=\"dataframe\">\n",
       "  <thead>\n",
       "    <tr style=\"text-align: right;\">\n",
       "      <th></th>\n",
       "      <th>pais</th>\n",
       "      <th>homename</th>\n",
       "    </tr>\n",
       "  </thead>\n",
       "  <tbody>\n",
       "    <tr>\n",
       "      <th>0</th>\n",
       "      <td>United States of America</td>\n",
       "      <td>2826</td>\n",
       "    </tr>\n",
       "    <tr>\n",
       "      <th>1</th>\n",
       "      <td>Japan</td>\n",
       "      <td>893</td>\n",
       "    </tr>\n",
       "    <tr>\n",
       "      <th>2</th>\n",
       "      <td>Australia</td>\n",
       "      <td>809</td>\n",
       "    </tr>\n",
       "    <tr>\n",
       "      <th>3</th>\n",
       "      <td>Spain</td>\n",
       "      <td>752</td>\n",
       "    </tr>\n",
       "    <tr>\n",
       "      <th>0</th>\n",
       "      <td>Otros</td>\n",
       "      <td>4231</td>\n",
       "    </tr>\n",
       "  </tbody>\n",
       "</table>\n",
       "</div>"
      ],
      "text/plain": [
       "                       pais  homename\n",
       "0  United States of America      2826\n",
       "1                     Japan       893\n",
       "2                 Australia       809\n",
       "3                     Spain       752\n",
       "0                     Otros      4231"
      ]
     },
     "execution_count": 31,
     "metadata": {},
     "output_type": "execute_result"
    }
   ],
   "source": [
    "df_final = pd.concat([top_4, df_otros_agrupado])\n",
    "df_final"
   ]
  },
  {
   "cell_type": "code",
   "execution_count": 33,
   "id": "1c3e85cc-94fb-4922-a1c7-92ce3b9aa522",
   "metadata": {},
   "outputs": [
    {
     "data": {
      "text/html": [
       "<div>\n",
       "<style scoped>\n",
       "    .dataframe tbody tr th:only-of-type {\n",
       "        vertical-align: middle;\n",
       "    }\n",
       "\n",
       "    .dataframe tbody tr th {\n",
       "        vertical-align: top;\n",
       "    }\n",
       "\n",
       "    .dataframe thead th {\n",
       "        text-align: right;\n",
       "    }\n",
       "</style>\n",
       "<table border=\"1\" class=\"dataframe\">\n",
       "  <thead>\n",
       "    <tr style=\"text-align: right;\">\n",
       "      <th></th>\n",
       "      <th>homename</th>\n",
       "    </tr>\n",
       "    <tr>\n",
       "      <th>pais</th>\n",
       "      <th></th>\n",
       "    </tr>\n",
       "  </thead>\n",
       "  <tbody>\n",
       "    <tr>\n",
       "      <th>United States of America</th>\n",
       "      <td>2826</td>\n",
       "    </tr>\n",
       "    <tr>\n",
       "      <th>Japan</th>\n",
       "      <td>893</td>\n",
       "    </tr>\n",
       "    <tr>\n",
       "      <th>Australia</th>\n",
       "      <td>809</td>\n",
       "    </tr>\n",
       "    <tr>\n",
       "      <th>Spain</th>\n",
       "      <td>752</td>\n",
       "    </tr>\n",
       "    <tr>\n",
       "      <th>Otros</th>\n",
       "      <td>4231</td>\n",
       "    </tr>\n",
       "  </tbody>\n",
       "</table>\n",
       "</div>"
      ],
      "text/plain": [
       "                          homename\n",
       "pais                              \n",
       "United States of America      2826\n",
       "Japan                          893\n",
       "Australia                      809\n",
       "Spain                          752\n",
       "Otros                         4231"
      ]
     },
     "execution_count": 33,
     "metadata": {},
     "output_type": "execute_result"
    }
   ],
   "source": [
    "df_final = df_final.set_index(\"pais\")\n",
    "df_final"
   ]
  },
  {
   "cell_type": "code",
   "execution_count": 38,
   "id": "73ed21d0-9a06-4bad-91ce-303620aad450",
   "metadata": {},
   "outputs": [
    {
     "data": {
      "text/plain": [
       "<Axes: ylabel='homename'>"
      ]
     },
     "execution_count": 38,
     "metadata": {},
     "output_type": "execute_result"
    },
    {
     "data": {
      "image/png": "[encoded data removed]",
      "text/plain": [
       "<Figure size 640x480 with 1 Axes>"
      ]
     },
     "metadata": {},
     "output_type": "display_data"
    }
   ],
   "source": [
    "df_final.plot.pie(\n",
    "    y=\"homename\",\n",
    "    startangle=90,\n",
    "    autopct=\"%1.1f%%\",\n",
    "    colormap=\"Pastel1\"\n",
    ")"
   ]
  },
  {
   "cell_type": "code",
   "execution_count": 39,
   "id": "edd01295-754d-43c6-bc56-759396d9e613",
   "metadata": {},
   "outputs": [
    {
     "data": {
      "text/plain": [
       "Text(0, 0.5, '')"
      ]
     },
     "execution_count": 39,
     "metadata": {},
     "output_type": "execute_result"
    },
    {
     "data": {
      "image/png": "[encoded data removed]",
      "text/plain": [
       "<Figure size 640x480 with 1 Axes>"
      ]
     },
     "metadata": {},
     "output_type": "display_data"
    }
   ],
   "source": [
    "ax = df_final.plot.pie(\n",
    "    y=\"homename\",\n",
    "    startangle=90,\n",
    "    autopct=\"%1.1f%%\",\n",
    "    colormap=\"Pastel1\"\n",
    ")\n",
    "\n",
    "ax.set_ylabel(\"\")"
   ]
  },
  {
   "cell_type": "code",
   "execution_count": 44,
   "id": "b2768562-fcc4-4d70-b7a0-3b08d54b0aae",
   "metadata": {},
   "outputs": [
    {
     "data": {
      "text/plain": [
       "Text(0.5, 1.0, 'Porcentaje de surfistas por país')"
      ]
     },
     "execution_count": 44,
     "metadata": {},
     "output_type": "execute_result"
    },
    {
     "data": {
      "image/png": "[encoded data removed]",
      "text/plain": [
       "<Figure size 640x480 with 1 Axes>"
      ]
     },
     "metadata": {},
     "output_type": "display_data"
    }
   ],
   "source": [
    "ax = df_final.plot.pie(\n",
    "    y=\"homename\",\n",
    "    startangle=90,\n",
    "    autopct=\"%1.1f%%\",\n",
    "    colormap=\"Pastel1\"\n",
    ")\n",
    "\n",
    "ax.set_ylabel(\"\")\n",
    "\n",
    "ax.legend(\n",
    "    title=\"Pais de surfistas\",\n",
    "    fontsize=8,\n",
    "    bbox_to_anchor=(1, 1)\n",
    ")\n",
    "\n",
    "ax.set_title(\"Porcentaje de surfistas por país\")"
   ]
  }
 ],
 "metadata": {
  "kernelspec": {
   "display_name": "Python 3 (ipykernel)",
   "language": "python",
   "name": "python3"
  },
  "language_info": {
   "codemirror_mode": {
    "name": "ipython",
    "version": 3
   },
   "file_extension": ".py",
   "mimetype": "text/x-python",
   "name": "python",
   "nbconvert_exporter": "python",
   "pygments_lexer": "ipython3",
   "version": "3.12.7"
  }
 },
 "nbformat": 4,
 "nbformat_minor": 5
}
